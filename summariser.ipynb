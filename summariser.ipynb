{
 "cells": [
  {
   "cell_type": "markdown",
   "metadata": {},
   "source": [
    "# Import Dependancies"
   ]
  },
  {
   "cell_type": "code",
   "execution_count": 1,
   "metadata": {},
   "outputs": [],
   "source": [
    "import os, re\n",
    "import pandas as pd\n",
    "from summarise.io import doc_to_csv\n",
    "from summarise.io import pdf_to_text_file\n",
    "from summarise.preprocess import clean_text\n",
    "from summarise.visualise import highlight_str"
   ]
  },
  {
   "cell_type": "code",
   "execution_count": null,
   "metadata": {},
   "outputs": [],
   "source": [
    "# Helper functions\n",
    "def write_text_to_file( text, filename ):\n",
    "    \"\"\"Writes text to file\"\"\"\n",
    "    with open( filename, \"w\", encoding=\"utf-8\") as f:    \n",
    "        f.write( text )\n",
    "        f.close()"
   ]
  },
  {
   "cell_type": "markdown",
   "metadata": {},
   "source": [
    "# Import Raw Data"
   ]
  },
  {
   "cell_type": "code",
   "execution_count": 9,
   "metadata": {},
   "outputs": [
    {
     "output_type": "execute_result",
     "data": {
      "text/plain": "   Unnamed: 0                                               Name  \\\n0           0    cyborg-supervision-speech-by-james-proudman.txt   \n1           1  managing-machines-the-governance-of-artificial...   \n2           2  supervisor-centred-automation-the-role-of-huma...   \n\n                                                Text  \n0   \\r\\n\\r\\n \\r\\n \\r\\n \\r\\n \\r\\n \\r\\n \\r\\n \\r\\n \\...  \n1   \\r\\n\\r\\n \\r\\n \\r\\n \\r\\n \\r\\n \\r\\n \\r\\n \\r\\n \\...  \n2   \\r\\n\\r\\n \\r\\n \\r\\n \\r\\n \\r\\n \\r\\n \\r\\n \\r\\n \\...  ",
      "text/html": "<div>\n<style scoped>\n    .dataframe tbody tr th:only-of-type {\n        vertical-align: middle;\n    }\n\n    .dataframe tbody tr th {\n        vertical-align: top;\n    }\n\n    .dataframe thead th {\n        text-align: right;\n    }\n</style>\n<table border=\"1\" class=\"dataframe\">\n  <thead>\n    <tr style=\"text-align: right;\">\n      <th></th>\n      <th>Unnamed: 0</th>\n      <th>Name</th>\n      <th>Text</th>\n    </tr>\n  </thead>\n  <tbody>\n    <tr>\n      <th>0</th>\n      <td>0</td>\n      <td>cyborg-supervision-speech-by-james-proudman.txt</td>\n      <td>\\r\\n\\r\\n \\r\\n \\r\\n \\r\\n \\r\\n \\r\\n \\r\\n \\r\\n \\...</td>\n    </tr>\n    <tr>\n      <th>1</th>\n      <td>1</td>\n      <td>managing-machines-the-governance-of-artificial...</td>\n      <td>\\r\\n\\r\\n \\r\\n \\r\\n \\r\\n \\r\\n \\r\\n \\r\\n \\r\\n \\...</td>\n    </tr>\n    <tr>\n      <th>2</th>\n      <td>2</td>\n      <td>supervisor-centred-automation-the-role-of-huma...</td>\n      <td>\\r\\n\\r\\n \\r\\n \\r\\n \\r\\n \\r\\n \\r\\n \\r\\n \\r\\n \\...</td>\n    </tr>\n  </tbody>\n</table>\n</div>"
     },
     "metadata": {},
     "execution_count": 9
    }
   ],
   "source": [
    "# Define constants\n",
    "ROOT        = os.path.abspath('') #current directory\n",
    "DATA_FOLDER = os.path.join( ROOT, 'data')\n",
    "ALL_DATA    = os.path.join( DATA_FOLDER, 'all_data.csv' )\n",
    "OUTPUT_FOLDER   = os.path.join( ROOT, 'output')\n",
    "if os.path.isfile( ALL_DATA ):\n",
    "    # Read pre-processed data\n",
    "    df          = pd.read_csv( ALL_DATA )\n",
    "else:\n",
    "    # Create from scratch\n",
    "    filenames   = pdf_to_text_file( DATA_FOLDER )\n",
    "    df          = doc_to_csv( filenames, ALL_DATA )\n",
    "df.head()"
   ]
  },
  {
   "cell_type": "markdown",
   "metadata": {},
   "source": [
    "# Clean"
   ]
  },
  {
   "cell_type": "code",
   "execution_count": 3,
   "metadata": {},
   "outputs": [],
   "source": [
    "# Clean documents\n",
    "documents   = df['Text'].values.tolist()\n",
    "cleaned     = [clean_text(doc) for doc in documents]"
   ]
  },
  {
   "cell_type": "markdown",
   "metadata": {},
   "source": [
    "# Summarise"
   ]
  },
  {
   "cell_type": "code",
   "execution_count": 13,
   "metadata": {},
   "outputs": [
    {
     "output_type": "stream",
     "name": "stdout",
     "text": "Cyborg supervision – the application of advanced analytics in prudential supervision Speech given by James Proudman Executive Director, UK Deposit Takers Supervision Workshop on research on bank supervision Bank of England I am grateful to Sian Besley, David Bholat, Charlotte Bull, Stephen Denby, Ryan Lovelock, Clair Mills, Philip Sellar, Pete Thomas and Sam Woods for their assistance in preparing these remarks and conducting background research and analysis. Enabling a machine to teach itself to recognise a face requires sophisticated algorithms that can learn from data. In this speech I want to explore the impact of AI and advanced analytics more broadly, on the safety and soundness of the firms we supervise at the PRA, and how we are starting to apply such technology to the supervision of firms. Changing the nature of the risks we supervise Like many other firms, banks are looking to harness the power and speed of AI. No hard data on industry-wide uptake are available but intelligence from supervisors is that the scale of adoption of advanced analytics across the industry so far is relatively slow. There is clearly, however, the potential for usage to accelerate. Increasing levels of automation, machine learning and AI could improve the safety and soundness of firms in some ways. ML is also starting to influence how wholesale loans are arranged. But ML can still be used to improve the quality of underwriting by making use of non-traditional data. Each of these aspects of supervision is amenable to automation, machine learning or AI to some extent. With respect to rule setting, for example, a project is underway to use advanced analytics to understand the complexity of the PRA rulebook. Each line between the nodes is a cross-reference in the text. Regulated banks are required to submit large quantities of data to regulators. The cost of collecting and reporting data to meet regulatory requirements is a significant burden to both regulators and regulated firms. There remain significant technical challenges to be overcome. Recent work at the Bank investigated the predictive power of the regulatory returns for these firms. But it does demonstrate how more advanced analytics can be used to enhance effectiveness of supervision, and we are beginning to experiment with introducing genuine ML into this tool. For each firm that the PRA deems sufficiently critical, we form an assessment of the key risks to its safety and soundness. From that, we articulate a strategy of actions by the bank to mitigate the likelihood and the consequence of those risks. It seems to me to be highly unlikely in the foreseeable future. And the information sources may evolve – firms’ definitions of products, business lines, risks, committees and so on do not stay the same. So – along the same lines pursued by law firms for example – one big win is the ability to produce structured data from a range of sources, the analysis of which traditionally required significant manual effort. Conclusion Advanced analytics, machine learning and AI seem to be everywhere now – from image and voice recognition software to driverless cars and health care. Amadxarif, Z., Brookes, J., Garbarino, N., Patel, R., and Walczak, E (n.d) Textual complexity in UK Arnold, M (2018), HSBC brings in AI to help spot money laundering, FT available here: https://www.ft.com/content/b9d7daa6-3983-11e8-8b98-2f31af407cc8 Bholat, D., Brookes, J., Cai, C., Grundy, K., and Lund, J (2017), Sending firm messages: text mining letters from PRA supervisors to banks and building societies they regulate.\n"
    }
   ],
   "source": [
    "from summarizer import Summarizer\n",
    "def summarise_text(text):\n",
    "    model   = Summarizer()\n",
    "    result  = model(text, min_length=60)\n",
    "    return ''.join(result)\n",
    "# Summarise documents\n",
    "summarised = [ summarise_text(doc) for doc in cleaned ]\n",
    "print(summarised[0])"
   ]
  },
  {
   "cell_type": "code",
   "execution_count": 11,
   "metadata": {},
   "outputs": [
    {
     "output_type": "stream",
     "name": "stdout",
     "text": "Written files\n"
    }
   ],
   "source": [
    "# Save results to file\n",
    "def write_text_to_file( text, filename ):\n",
    "    \"\"\"Writes text to file\"\"\"\n",
    "    with open( filename, \"w\", encoding=\"utf-8\") as f:    \n",
    "        f.write( text )\n",
    "        f.close()\n",
    "for i, doc in enumerate(summarised):    \n",
    "    filename    = os.path.join( OUTPUT_FOLDER, \"BERT_summary{:02d}.txt\".format(i) )\n",
    "    write_text_to_file( doc, filename )\n",
    "print('Written files')"
   ]
  },
  {
   "cell_type": "markdown",
   "metadata": {},
   "source": [
    "# Visualise Result"
   ]
  },
  {
   "cell_type": "code",
   "execution_count": 14,
   "metadata": {},
   "outputs": [],
   "source": [
    "import spacy\n",
    "nlp     = spacy.load(\"en_core_web_lg\")\n",
    "doc     = nlp(summarised[0])"
   ]
  },
  {
   "cell_type": "code",
   "execution_count": 15,
   "metadata": {},
   "outputs": [],
   "source": [
    "sentences = list(doc.sents)"
   ]
  },
  {
   "cell_type": "code",
   "execution_count": 16,
   "metadata": {
    "tags": [
     "outputPrepend"
    ]
   },
   "outputs": [
    {
     "output_type": "stream",
     "name": "stdout",
     "text": "\u001b[1;30m\u001b[1;43mCyborg supervision – the application of advanced analytics in prudential supervision Speech given by James Proudman Executive Director, UK Deposit Takers Supervision Workshop on research on bank supervision Bank of England\u001b[0m\u001b[0m \u001b[1;30m\u001b[1;43mI am grateful to Sian Besley, David Bholat, Charlotte Bull, Stephen Denby, Ryan Lovelock, Clair Mills, Philip Sellar, Pete Thomas and Sam Woods for their assistance in preparing these remarks and conducting background research and analysis.\u001b[0m\u001b[0m I. Introduction II. Recognising faces comes instinctively to humans. Until fairly recently, however, it proved beyond the ability of computers. Advances in artificial intelligence (AI) - the use of a machine to simulate human behaviour – and its subset, machine learning (ML) – in which a machine teaches itself to perform tasks – are now making facial recognition software much more widely available. You might even use it to access your bank account. Because it is so easy for us but so hard for computers, facial recognition is a good illustration of the challenges faced in developing AI. \u001b[1;30m\u001b[1;43mEnabling a machine to teach itself to recognise a face requires sophisticated algorithms that can learn from data.\u001b[0m\u001b[0m Advances in computational power and algorithmic techniques are helping machines become more human and super-human like. ML also requires lots of data from which to learn: data are the fuel that powers it – the more data used to train the algorithms, the more accurate their predictions typically become. Hence advances in AI are often associated with Big Data and the recent huge advances in the volume and variety of data available (see Figure 1). As the sophistication of algorithms and volume of data rise, the uses of AI in every-day life are expanding. Finance is no exception. \u001b[1;30m\u001b[1;43mIn this speech I want to explore the impact of AI and advanced analytics more broadly, on the safety and soundness of the firms we supervise at the PRA, and how we are starting to apply such technology to the supervision of firms.\u001b[0m\u001b[0m In particular, I want to explore the seeming tension between the PRA’s supervisory regime that is firmly centred on human judgment, and our increasing interest and investment in automation, machine learning and artificial intelligence. \u001b[1;30m\u001b[1;43mChanging the nature of the risks we supervise Like many other firms, banks are looking to harness the power and speed of AI.\u001b[0m\u001b[0m If you were to take some parts of the media at face value you might be tempted to conclude that a revolution is underway. There are plenty of examples of innovation to point to – from the use of ML-driven financial-market trading algorithms; to the introduction of online banking platforms that generate alerts to customers on trends and irregularities in their spending habits; to new apps that suggest switching utility providers to the cheapest provider. On closer inspection, however, the situation seems rather less revolutionary and more evolutionary. \u001b[1;30m\u001b[1;43mNo hard data on industry-wide uptake are available but intelligence from supervisors is that the scale of adoption of advanced analytics across the industry so far is relatively slow.\u001b[0m\u001b[0m \u001b[1;30m\u001b[1;43mThere is clearly, however, the potential for usage to accelerate.\u001b[0m\u001b[0m At the macroeconomic level, changes in technology, including AI, could, over time, profoundly affect the nature of the financial services consumed and may result in changes to the structure of the financial services industry. This set of issues is being explored at the Bank of England by Huw Van Steenis in his review of the future of the financial system. What matters to us as prudential supervisors is the extent to which the development of advanced analytics changes the risks to the safety and soundness of the firms we supervise. \u001b[1;30m\u001b[1;43mIncreasing levels of automation, machine learning and AI could improve the safety and soundness of firms in some ways.\u001b[0m\u001b[0m For example, until recently, most firms were using a rules-based approach to anti-money laundering monitoring. But this is changing and firms are introducing ML software that produces more accurate results, more efficiently, by bringing together customer data with publicly available information on customers from the internet to detect anomalous flows of funds. ML may also improve the quality of credit risk assessments, particularly for high-volume retail lending, for which plenty of data are available and can be used for training machine learning models. Recent research, for example, analysed more than 120 million mortgages in the US written between 1995 and 2014 and identified significant non-linear relationships between risk factors and mortgages becoming non-performing. These ‘jumps’ in the chance that a loan defaults – sometimes with just a small change in circumstances – are precisely the kind of non-linear relationships for which machine learning models are well suited. \u001b[1;30m\u001b[1;43mML is also starting to influence how wholesale loans are arranged.\u001b[0m\u001b[0m In contrast to retail lending, the idiosyncratic risks and limited data available for corporate lending make typical automated underwriting more difficult. \u001b[1;30m\u001b[1;43mBut ML can still be used to improve the quality of underwriting by making use of non-traditional data.\u001b[0m\u001b[0m For example, natural language processing of annual reports and social media can give firms useful information on the quality of the credit. But the increased use of ML and AI may also increase some risks to the safety and soundness of firms. Implementing ML and AI at scale is likely to require considerable investments by firms in their data and technology capabilities. While in the long-run these investments could increase revenue, in the short-term they are likely to increase costs. They will also amplify execution and operational risks. And even if firms eventually are successful in embedding new tools and techniques, these may make their businesses more complex and difficult to manage. For example, while ML models could alter banks’ trading and retail businesses – enabling them to make better decisions more quickly – the opacity, however, of these models may also make them more difficult for humans to understand. Boards, senior management and staff in firms may consequently need different skills to operate an effective oversight, risk and control environment. III. Changing the methods by which we supervise Advanced analytics are also likely over time to lead to changes to the way we do our jobs as supervisors. To see how, it is perhaps easiest to go back to the basics of what prudential supervision actually is. Our approach to promoting safety and soundness is based upon forward-looking judgement-based supervision, in which we identify the key risks facing firms and set supervisory strategies to mitigate them. Described as a business process, it can be broken down into a number of simple steps: 1) rule-setting and reporting; 2) analysis and monitoring; and 3) setting and communicating a supervisory strategy to mitigate identified risks. \u001b[1;30m\u001b[1;43mEach of these aspects of supervision is amenable to automation, machine learning or AI to some extent.\u001b[0m\u001b[0m \u001b[1;30m\u001b[1;43mWith respect to rule setting, for example, a project is underway to use advanced analytics to understand the complexity of the PRA rulebook.\u001b[0m\u001b[0m We hope to use the results to identify ways to simplify our rules to make them easier to comply with. The PRA Rulebook contains 638,000 words –77,000 words longer than War and Peace in English translation. The complexity of the language used can make the text difficult to read. Another layer of complexity is added because of cross-references and links between different parts of the Rulebook, requiring the reader to refer backwards and forwards, disrupting reader flow. Figure 2 is a visualisation of the Rulebook. Each node is a part the PRA Rulebook. \u001b[1;30m\u001b[1;43mEach line between the nodes is a cross-reference in the text.\u001b[0m\u001b[0m When parts of the rulebook are linked together, tweaking one part can have unintended consequences for others. We can quantify the interconnectedness of different parts of the rulebook using the PageRank algorithm, the same algorithm used by Google’s search engine. A higher score implies greater connectivity of a particular part to other parts. Happily, most parts of the rulebook are self-contained and ‘structurally simple’. Looking further into the future, a bigger win might be to automate the rulebook entirely. \u001b[1;30m\u001b[1;43mRegulated banks are required to submit large quantities of data to regulators.\u001b[0m\u001b[0m \u001b[1;30m\u001b[1;43mThe cost of collecting and reporting data to meet regulatory requirements is a significant burden to both regulators and regulated firms.\u001b[0m\u001b[0m Regulatory data collections also have significant time lags, normally 4 to 6 weeks. One solution is to make the data reporting process better tailored to the needs of supervisors. Digital regulatory reporting (DRR) is the automation of regulatory data collection, and could potentially lead to significant improvements in both the cost and timeliness of data. The idea is based on machine readable reporting requirements that firms’ systems could automatically interpret and satisfy via a secure regulator-firm digital link. This would allow regulators to collect data on an ad hoc basis from firms as required, in close to real time without any manual intervention at either end. That would enable supervisors to specify the data they needed to solve a particular puzzle – exposures to a particular country, for example – and transmit that data request to firms in a machine readable form. The data would then be ‘grabbed’ directly from firms’ systems and sent back to supervisors automatically. The FCA and Bank of England are currently undertaking a DRR pilot with participants from a number of regulated firms. It is too early to say what the outcome of this early pilo\n"
    }
   ],
   "source": [
    "text_highlighted = cleaned[0]\n",
    "for sentence in sentences:    \n",
    "    text_highlighted = highlight_str( text_highlighted, sentence.text )\n",
    "print(text_highlighted[:10000])"
   ]
  }
 ],
 "metadata": {
  "language_info": {
   "codemirror_mode": {
    "name": "ipython",
    "version": 3
   },
   "file_extension": ".py",
   "mimetype": "text/x-python",
   "name": "python",
   "nbconvert_exporter": "python",
   "pygments_lexer": "ipython3",
   "version": "3.7.6-final"
  },
  "orig_nbformat": 2,
  "kernelspec": {
   "name": "python37664bitsummarisespeechconda6d38c64ea8ef499d86d7d6061f01c9a5",
   "display_name": "Python 3.7.6 64-bit ('summarise-speech': conda)"
  }
 },
 "nbformat": 4,
 "nbformat_minor": 2
}