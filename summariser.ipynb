{
 "cells": [
  {
   "cell_type": "code",
   "execution_count": 1,
   "metadata": {},
   "outputs": [],
   "source": [
    "import os, re\n",
    "import pandas as pd\n",
    "from summarise.io import doc_to_csv\n",
    "from summarise.io import pdf_to_text_file\n",
    "from summarise.preprocess import clean_text\n",
    "from summarise.visualise import highlight_str"
   ]
  },
  {
   "cell_type": "code",
   "execution_count": 2,
   "metadata": {},
   "outputs": [
    {
     "output_type": "execute_result",
     "data": {
      "text/plain": "   Unnamed: 0                                               Name  \\\n0           0    cyborg-supervision-speech-by-james-proudman.txt   \n1           1  managing-machines-the-governance-of-artificial...   \n2           2  supervisor-centred-automation-the-role-of-huma...   \n\n                                                Text  \n0   \\r\\n\\r\\n \\r\\n \\r\\n \\r\\n \\r\\n \\r\\n \\r\\n \\r\\n \\...  \n1   \\r\\n\\r\\n \\r\\n \\r\\n \\r\\n \\r\\n \\r\\n \\r\\n \\r\\n \\...  \n2   \\r\\n\\r\\n \\r\\n \\r\\n \\r\\n \\r\\n \\r\\n \\r\\n \\r\\n \\...  ",
      "text/html": "<div>\n<style scoped>\n    .dataframe tbody tr th:only-of-type {\n        vertical-align: middle;\n    }\n\n    .dataframe tbody tr th {\n        vertical-align: top;\n    }\n\n    .dataframe thead th {\n        text-align: right;\n    }\n</style>\n<table border=\"1\" class=\"dataframe\">\n  <thead>\n    <tr style=\"text-align: right;\">\n      <th></th>\n      <th>Unnamed: 0</th>\n      <th>Name</th>\n      <th>Text</th>\n    </tr>\n  </thead>\n  <tbody>\n    <tr>\n      <th>0</th>\n      <td>0</td>\n      <td>cyborg-supervision-speech-by-james-proudman.txt</td>\n      <td>\\r\\n\\r\\n \\r\\n \\r\\n \\r\\n \\r\\n \\r\\n \\r\\n \\r\\n \\...</td>\n    </tr>\n    <tr>\n      <th>1</th>\n      <td>1</td>\n      <td>managing-machines-the-governance-of-artificial...</td>\n      <td>\\r\\n\\r\\n \\r\\n \\r\\n \\r\\n \\r\\n \\r\\n \\r\\n \\r\\n \\...</td>\n    </tr>\n    <tr>\n      <th>2</th>\n      <td>2</td>\n      <td>supervisor-centred-automation-the-role-of-huma...</td>\n      <td>\\r\\n\\r\\n \\r\\n \\r\\n \\r\\n \\r\\n \\r\\n \\r\\n \\r\\n \\...</td>\n    </tr>\n  </tbody>\n</table>\n</div>"
     },
     "metadata": {},
     "execution_count": 2
    }
   ],
   "source": [
    "# Define constants\n",
    "ROOT        = os.path.abspath('') #current directory\n",
    "DATA_FOLDER = os.path.join( ROOT, 'data')\n",
    "ALL_DATA    = os.path.join( DATA_FOLDER, 'all_data.csv' )\n",
    "if os.path.isfile( ALL_DATA ):\n",
    "    # Read pre-processed data\n",
    "    df          = pd.read_csv( ALL_DATA )\n",
    "else:\n",
    "    # Create from scratch\n",
    "    filenames   = pdf_to_text_file( DATA_FOLDER )\n",
    "    df          = doc_to_csv( filenames, ALL_DATA )\n",
    "df.head()"
   ]
  },
  {
   "cell_type": "code",
   "execution_count": 8,
   "metadata": {},
   "outputs": [
    {
     "output_type": "stream",
     "name": "stdout",
     "text": "Cyborg supervision – the application of advanced analytics in prudential supervision Speech given by James Proudman Executive Director, UK Deposit Takers Supervision Workshop on research on bank supervision Bank of England I am grateful to Sian Besley, David Bholat, Charlotte Bull, Stephen Denby, Ryan Lovelock, Clair Mills, Philip Sellar, Pete Thomas and Sam Woods for their assistance in preparing these remarks and conducting background research and analysis. Because it is so easy for us but so hard for computers, facial recognition is a good illustration of the challenges faced in developing AI. In this speech I want to explore the impact of AI and advanced analytics more broadly, on the safety and soundness of the firms we supervise at the PRA, and how we are starting to apply such technology to the supervision of firms. Changing the nature of the risks we supervise Like many other firms, banks are looking to harness the power and speed of AI. There is clearly, however, the potential for usage to accelerate. In contrast to retail lending, the idiosyncratic risks and limited data available for corporate lending make typical automated underwriting more difficult. But ML can still be used to improve the quality of underwriting by making use of non-traditional data. Implementing ML and AI at scale is likely to require considerable investments by firms in their data and technology capabilities. And even if firms eventually are successful in embedding new tools and techniques, these may make their businesses more complex and difficult to manage. With respect to rule setting, for example, a project is underway to use advanced analytics to understand the complexity of the PRA rulebook. The cost of collecting and reporting data to meet regulatory requirements is a significant burden to both regulators and regulated firms. Regulatory data collections also have significant time lags, normally 4 to 6 weeks. The data would then be ‘grabbed’ directly from firms’ systems and sent back to supervisors automatically. There remain significant technical challenges to be overcome. This is an example of what is sometimes referred to as human-centred automation “… which considers where humans can often do tasks or make better judgements than machines, and designs automation around these strengths”. The task that lies at the heart of supervision – the third step I referred to above – is setting strategies to reduce prudential risks. For each firm that the PRA deems sufficiently critical, we form an assessment of the key risks to its safety and soundness. It seems to me to be highly unlikely in the foreseeable future. And the information sources may evolve – firms’ definitions of products, business lines, risks, committees and so on do not stay the same. ML also allows documents with similar characteristics to be classified together and analysed, either within or across banks. But letter writing is an art rather than a science, and evaluating objectively how clear we are does not lend itself easily to traditional forms of quantitative methods. Conclusion Advanced analytics, machine learning and AI seem to be everywhere now – from image and voice recognition software to driverless cars and health care. Banks too are also seeking to apply these tools and techniques to the range of their activities, many of which used to be seen as the preserve of experts: from risk assessment, to financial crime prevention and trading in the financial markets. Supervisors need to stay abreast of how technology is changing the risks the banks are running and how they are being controlled.\n"
    }
   ],
   "source": [
    "from summarizer import Summarizer\n",
    "\n",
    "documents   = df['Text'].values.tolist()\n",
    "text        = [clean_text(doc) for doc in documents]\n",
    "\n",
    "model   = Summarizer()\n",
    "result  = model(text[0], min_length=60)\n",
    "full    = ''.join(result)\n",
    "print(full)"
   ]
  },
  {
   "cell_type": "code",
   "execution_count": 15,
   "metadata": {},
   "outputs": [],
   "source": [
    "import spacy\n",
    "nlp     = spacy.load(\"en_core_web_lg\")\n",
    "doc     = nlp(full)"
   ]
  },
  {
   "cell_type": "code",
   "execution_count": 38,
   "metadata": {},
   "outputs": [],
   "source": [
    "sentences = list(doc.sents)"
   ]
  },
  {
   "cell_type": "code",
   "execution_count": 54,
   "metadata": {
    "tags": [
     "outputPrepend"
    ]
   },
   "outputs": [
    {
     "output_type": "stream",
     "name": "stdout",
     "text": "\u001b[1;30m\u001b[1;43mCyborg supervision – the application of advanced analytics in prudential supervision Speech given by James Proudman Executive Director, UK Deposit Takers Supervision Workshop on research on bank supervision Bank of England\u001b[0m\u001b[0m \u001b[1;30m\u001b[1;43mI am grateful to Sian Besley, David Bholat, Charlotte Bull, Stephen Denby, Ryan Lovelock, Clair Mills, Philip Sellar, Pete Thomas and Sam Woods for their assistance in preparing these remarks and conducting background research and analysis.\u001b[0m\u001b[0m I. Introduction II. Recognising faces comes instinctively to humans. Until fairly recently, however, it proved beyond the ability of computers. Advances in artificial intelligence (AI) - the use of a machine to simulate human behaviour – and its subset, machine learning (ML) – in which a machine teaches itself to perform tasks – are now making facial recognition software much more widely available. You might even use it to access your bank account. \u001b[1;30m\u001b[1;43mBecause it is so easy for us\u001b[0m\u001b[0m \u001b[1;30m\u001b[1;43mbut so hard for computers, facial recognition is a good illustration of the challenges faced in developing AI.\u001b[0m\u001b[0m Enabling a machine to teach itself to recognise a face requires sophisticated algorithms that can learn from data. Advances in computational power and algorithmic techniques are helping machines become more human and super-human like. ML also requires lots of data from which to learn: data are the fuel that powers it – the more data used to train the algorithms, the more accurate their predictions typically become. Hence advances in AI are often associated with Big Data and the recent huge advances in the volume and variety of data available (see Figure 1). As the sophistication of algorithms and volume of data rise, the uses of AI in every-day life are expanding. Finance is no exception. \u001b[1;30m\u001b[1;43mIn this speech I want to explore the impact of AI and advanced analytics more broadly, on the safety and soundness of the firms we supervise at the PRA, and how we are starting to apply such technology to the supervision of firms.\u001b[0m\u001b[0m In particular, I want to explore the seeming tension between the PRA’s supervisory regime that is firmly centred on human judgment, and our increasing interest and investment in automation, machine learning and artificial intelligence. \u001b[1;30m\u001b[1;43mChanging the nature of the risks we supervise Like many other firms, banks are looking to harness the power and speed of AI.\u001b[0m\u001b[0m If you were to take some parts of the media at face value you might be tempted to conclude that a revolution is underway. There are plenty of examples of innovation to point to – from the use of ML-driven financial-market trading algorithms; to the introduction of online banking platforms that generate alerts to customers on trends and irregularities in their spending habits; to new apps that suggest switching utility providers to the cheapest provider. On closer inspection, however, the situation seems rather less revolutionary and more evolutionary. No hard data on industry-wide uptake are available but intelligence from supervisors is that the scale of adoption of advanced analytics across the industry so far is relatively slow. \u001b[1;30m\u001b[1;43mThere is clearly, however, the potential for usage to accelerate.\u001b[0m\u001b[0m At the macroeconomic level, changes in technology, including AI, could, over time, profoundly affect the nature of the financial services consumed and may result in changes to the structure of the financial services industry. This set of issues is being explored at the Bank of England by Huw Van Steenis in his review of the future of the financial system. What matters to us as prudential supervisors is the extent to which the development of advanced analytics changes the risks to the safety and soundness of the firms we supervise. Increasing levels of automation, machine learning and AI could improve the safety and soundness of firms in some ways. For example, until recently, most firms were using a rules-based approach to anti-money laundering monitoring. But this is changing and firms are introducing ML software that produces more accurate results, more efficiently, by bringing together customer data with publicly available information on customers from the internet to detect anomalous flows of funds. ML may also improve the quality of credit risk assessments, particularly for high-volume retail lending, for which plenty of data are available and can be used for training machine learning models. Recent research, for example, analysed more than 120 million mortgages in the US written between 1995 and non-performing. These ‘jumps’ in the chance that a loan defaults – sometimes with just a small change in circumstances – are precisely the kind of non-linear relationships for which machine learning models are well suited. ML is also starting to influence how wholesale loans are arranged. \u001b[1;30m\u001b[1;43mIn contrast to retail lending, the idiosyncratic risks and limited data available for corporate lending make typical automated underwriting more difficult.\u001b[0m\u001b[0m \u001b[1;30m\u001b[1;43mBut ML can still be used to improve the quality of underwriting by making use of non-traditional data.\u001b[0m\u001b[0m For example, natural language processing of annual reports and social media can give firms useful information on the quality of the credit. But the increased use of ML and AI may also increase some risks to the safety and soundness of firms. \u001b[1;30m\u001b[1;43mImplementing ML and AI at scale is likely to require considerable investments by firms in their data and technology capabilities.\u001b[0m\u001b[0m While in the long-run these investments could increase revenue, in the short-term they are likely to increase costs. They will also amplify execution and operational risks. \u001b[1;30m\u001b[1;43mAnd even if firms eventually are successful in embedding new tools and techniques, these may make their businesses more complex and difficult to manage.\u001b[0m\u001b[0m For example, while ML models could alter banks’ trading and retail businesses – enabling them to make better decisions more quickly – the opacity, however, of these models may also make them more difficult for humans to understand. Boards, senior management and staff in firms may consequently need different skills to operate an effective oversight, risk and control environment. III. Changing the methods by which we supervise Advanced analytics are also likely over time to lead to changes to the way we do our jobs as supervisors. To see how, it is perhaps easiest to go back to the basics of what prudential supervision actually is. Our approach to promoting safety and soundness is based upon forward-looking judgement-based supervision, in which we identify the key risks facing firms and set supervisory strategies to mitigate them. Described as a business process, it can be broken down into a number of simple steps: 1) rule-setting and reporting; 2) analysis and monitoring; and 3) setting and communicating a supervisory strategy to mitigate identified risks. Each of these aspects of supervision is amenable to automation, machine learning or AI to some extent. \u001b[1;30m\u001b[1;43mWith respect to rule setting, for example, a project is underway to use advanced analytics to understand the complexity of the PRA rulebook.\u001b[0m\u001b[0m We hope to use the results to identify ways to simplify our rules to make them easier to comply with. The PRA Rulebook contains 638,000 words –77,000 words longer than War and Peace in English translation. The complexity of the language used can make the text difficult to read. Another layer of complexity is added because of cross-references and links between different parts of the Rulebook, requiring the reader to refer backwards and forwards, disrupting reader flow. Figure 2 is a visualisation of the Rulebook. Each node is a part the PRA Rulebook. Each line between the nodes is a cross-reference in the text. When parts of the rulebook are linked together, tweaking one part can have unintended consequences for others. We can quantify the interconnectedness of different parts of the rulebook using the PageRank algorithm, the same algorithm used by Google’s search engine. A higher score implies greater connectivity of a particular part to other parts. Happily, most parts of the rulebook are self-contained and ‘structurally simple’. Looking further into the future, a bigger win might be to automate the rulebook entirely. Regulated banks are required to submit large quantities of data to regulators. \u001b[1;30m\u001b[1;43mThe cost of collecting and reporting data to meet regulatory requirements is a significant burden to both regulators and regulated firms.\u001b[0m\u001b[0m \u001b[1;30m\u001b[1;43mRegulatory data collections also have significant time lags, normally 4 to 6 weeks.\u001b[0m\u001b[0m One solution is to make the data reporting process better tailored to the needs of supervisors. Digital regulatory reporting (DRR) is the automation of regulatory data collection, and could potentially lead to significant improvements in both the cost and timeliness of data. The idea is based on machine readable reporting requirements that firms’ systems could automatically interpret and satisfy via a secure regulator-firm digital link. This would allow regulators to collect data on an ad hoc basis from firms as required, in close to real time without any manual intervention at either end. That would enable supervisors to specify the data they needed to solve a particular puzzle – exposures to a particular country, for example – and transmit that data request to firms in a machine readable form. \u001b[1;30m\u001b[1;43mThe data would then be ‘grabbed’ directly from firms’ systems and sent back to supervisors automatically.\u001b[0m\u001b[0m The FCA and Bank of England are currently undertaking a DRR pilot with participants from a number of regulated firms. It is too early to say what the outcome of this early pilot will be, but initial findings suggest it is feasible. \u001b[1;30m\u001b[1;43mThere remain significant techni\n"
    }
   ],
   "source": [
    "text_highlighted = text[0]\n",
    "for sentence in sentences:    \n",
    "    text_highlighted = highlight_str( text_highlighted, sentence.text )\n",
    "print(text_highlighted[:10000])"
   ]
  }
 ],
 "metadata": {
  "language_info": {
   "codemirror_mode": {
    "name": "ipython",
    "version": 3
   },
   "file_extension": ".py",
   "mimetype": "text/x-python",
   "name": "python",
   "nbconvert_exporter": "python",
   "pygments_lexer": "ipython3",
   "version": "3.7.6-final"
  },
  "orig_nbformat": 2,
  "kernelspec": {
   "name": "python37664bitsummarisespeechconda6d38c64ea8ef499d86d7d6061f01c9a5",
   "display_name": "Python 3.7.6 64-bit ('summarise-speech': conda)"
  }
 },
 "nbformat": 4,
 "nbformat_minor": 2
}